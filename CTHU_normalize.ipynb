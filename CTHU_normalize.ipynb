{
 "cells": [
  {
   "cell_type": "code",
   "execution_count": 93,
   "metadata": {},
   "outputs": [],
   "source": [
    "import nibabel as nib \n",
    "import matplotlib.pyplot as plt"
   ]
  },
  {
   "cell_type": "code",
   "execution_count": 94,
   "metadata": {},
   "outputs": [],
   "source": [
    "# path = \"F:\\kits19-master\\kits19-master\\data\\case_00000\\imaging.nii.gz\"\n",
    "# image = nib.load(path)\n",
    "# image = image.get_fdata()\n",
    "# print(image.shape)\n",
    "# plt.imshow(image[300,:,:],cmap='gray')\n",
    "# plt.show()"
   ]
  },
  {
   "cell_type": "code",
   "execution_count": 96,
   "metadata": {},
   "outputs": [
    {
     "ename": "MemoryError",
     "evalue": "",
     "output_type": "error",
     "traceback": [
      "\u001B[1;31m---------------------------------------------------------------------------\u001B[0m",
      "\u001B[1;31mMemoryError\u001B[0m                               Traceback (most recent call last)",
      "\u001B[1;32mf:\\kits19-master\\kits19-master\\CTHU_normalize.ipynb Cell 3\u001B[0m in \u001B[0;36m<cell line: 3>\u001B[1;34m()\u001B[0m\n\u001B[0;32m      <a href='vscode-notebook-cell:/f%3A/kits19-master/kits19-master/CTHU_normalize.ipynb#W1sZmlsZQ%3D%3D?line=0'>1</a>\u001B[0m path \u001B[39m=\u001B[39m \u001B[39m\"\u001B[39m\u001B[39mF:\u001B[39m\u001B[39m\\\u001B[39m\u001B[39mkits19-master\u001B[39m\u001B[39m\\\u001B[39m\u001B[39mkits19-master\u001B[39m\u001B[39m\\\u001B[39m\u001B[39mdata\u001B[39m\u001B[39m\\\u001B[39m\u001B[39mcase_00000\u001B[39m\u001B[39m\\\u001B[39m\u001B[39msegmentation.nii.gz\u001B[39m\u001B[39m\"\u001B[39m\n\u001B[0;32m      <a href='vscode-notebook-cell:/f%3A/kits19-master/kits19-master/CTHU_normalize.ipynb#W1sZmlsZQ%3D%3D?line=1'>2</a>\u001B[0m image \u001B[39m=\u001B[39m nib\u001B[39m.\u001B[39mload(path)\n\u001B[1;32m----> <a href='vscode-notebook-cell:/f%3A/kits19-master/kits19-master/CTHU_normalize.ipynb#W1sZmlsZQ%3D%3D?line=2'>3</a>\u001B[0m image \u001B[39m=\u001B[39m image\u001B[39m.\u001B[39;49mget_fdata()\n\u001B[0;32m      <a href='vscode-notebook-cell:/f%3A/kits19-master/kits19-master/CTHU_normalize.ipynb#W1sZmlsZQ%3D%3D?line=3'>4</a>\u001B[0m \u001B[39mprint\u001B[39m(image\u001B[39m.\u001B[39mshape)\n\u001B[0;32m      <a href='vscode-notebook-cell:/f%3A/kits19-master/kits19-master/CTHU_normalize.ipynb#W1sZmlsZQ%3D%3D?line=4'>5</a>\u001B[0m plt\u001B[39m.\u001B[39mimshow(image[\u001B[39m300\u001B[39m,:,:],cmap\u001B[39m=\u001B[39m\u001B[39m'\u001B[39m\u001B[39mgray\u001B[39m\u001B[39m'\u001B[39m)\n",
      "File \u001B[1;32me:\\anaconda\\Anaconda\\envs\\pytorch\\lib\\site-packages\\nibabel\\dataobj_images.py:368\u001B[0m, in \u001B[0;36mDataobjImage.get_fdata\u001B[1;34m(self, caching, dtype)\u001B[0m\n\u001B[0;32m    364\u001B[0m         \u001B[39mreturn\u001B[39;00m \u001B[39mself\u001B[39m\u001B[39m.\u001B[39m_fdata_cache\n\u001B[0;32m    365\u001B[0m \u001B[39m# Always return requested data type\u001B[39;00m\n\u001B[0;32m    366\u001B[0m \u001B[39m# For array proxies, will attempt to confine data array to dtype\u001B[39;00m\n\u001B[0;32m    367\u001B[0m \u001B[39m# during scaling\u001B[39;00m\n\u001B[1;32m--> 368\u001B[0m data \u001B[39m=\u001B[39m np\u001B[39m.\u001B[39;49masanyarray(\u001B[39mself\u001B[39;49m\u001B[39m.\u001B[39;49m_dataobj, dtype\u001B[39m=\u001B[39;49mdtype)\n\u001B[0;32m    369\u001B[0m \u001B[39mif\u001B[39;00m caching \u001B[39m==\u001B[39m \u001B[39m'\u001B[39m\u001B[39mfill\u001B[39m\u001B[39m'\u001B[39m:\n\u001B[0;32m    370\u001B[0m     \u001B[39mself\u001B[39m\u001B[39m.\u001B[39m_fdata_cache \u001B[39m=\u001B[39m data\n",
      "File \u001B[1;32me:\\anaconda\\Anaconda\\envs\\pytorch\\lib\\site-packages\\numpy\\core\\_asarray.py:138\u001B[0m, in \u001B[0;36masanyarray\u001B[1;34m(a, dtype, order)\u001B[0m\n\u001B[0;32m     88\u001B[0m \u001B[39m@set_module\u001B[39m(\u001B[39m'\u001B[39m\u001B[39mnumpy\u001B[39m\u001B[39m'\u001B[39m)\n\u001B[0;32m     89\u001B[0m \u001B[39mdef\u001B[39;00m \u001B[39masanyarray\u001B[39m(a, dtype\u001B[39m=\u001B[39m\u001B[39mNone\u001B[39;00m, order\u001B[39m=\u001B[39m\u001B[39mNone\u001B[39;00m):\n\u001B[0;32m     90\u001B[0m     \u001B[39m\"\"\"Convert the input to an ndarray, but pass ndarray subclasses through.\u001B[39;00m\n\u001B[0;32m     91\u001B[0m \n\u001B[0;32m     92\u001B[0m \u001B[39m    Parameters\u001B[39;00m\n\u001B[1;32m   (...)\u001B[0m\n\u001B[0;32m    136\u001B[0m \n\u001B[0;32m    137\u001B[0m \u001B[39m    \"\"\"\u001B[39;00m\n\u001B[1;32m--> 138\u001B[0m     \u001B[39mreturn\u001B[39;00m array(a, dtype, copy\u001B[39m=\u001B[39;49m\u001B[39mFalse\u001B[39;49;00m, order\u001B[39m=\u001B[39;49morder, subok\u001B[39m=\u001B[39;49m\u001B[39mTrue\u001B[39;49;00m)\n",
      "File \u001B[1;32me:\\anaconda\\Anaconda\\envs\\pytorch\\lib\\site-packages\\nibabel\\arrayproxy.py:426\u001B[0m, in \u001B[0;36mArrayProxy.__array__\u001B[1;34m(self, dtype)\u001B[0m\n\u001B[0;32m    405\u001B[0m \u001B[39mdef\u001B[39;00m \u001B[39m__array__\u001B[39m(\u001B[39mself\u001B[39m, dtype\u001B[39m=\u001B[39m\u001B[39mNone\u001B[39;00m):\n\u001B[0;32m    406\u001B[0m     \u001B[39m\"\"\"Read data from file and apply scaling, casting to ``dtype``\u001B[39;00m\n\u001B[0;32m    407\u001B[0m \n\u001B[0;32m    408\u001B[0m \u001B[39m    If ``dtype`` is unspecified, the dtype of the returned array is the\u001B[39;00m\n\u001B[1;32m   (...)\u001B[0m\n\u001B[0;32m    424\u001B[0m \u001B[39m        Scaled image data with type `dtype`.\u001B[39;00m\n\u001B[0;32m    425\u001B[0m \u001B[39m    \"\"\"\u001B[39;00m\n\u001B[1;32m--> 426\u001B[0m     arr \u001B[39m=\u001B[39m \u001B[39mself\u001B[39;49m\u001B[39m.\u001B[39;49m_get_scaled(dtype\u001B[39m=\u001B[39;49mdtype, slicer\u001B[39m=\u001B[39;49m())\n\u001B[0;32m    427\u001B[0m     \u001B[39mif\u001B[39;00m dtype \u001B[39mis\u001B[39;00m \u001B[39mnot\u001B[39;00m \u001B[39mNone\u001B[39;00m:\n\u001B[0;32m    428\u001B[0m         arr \u001B[39m=\u001B[39m arr\u001B[39m.\u001B[39mastype(dtype, copy\u001B[39m=\u001B[39m\u001B[39mFalse\u001B[39;00m)\n",
      "File \u001B[1;32me:\\anaconda\\Anaconda\\envs\\pytorch\\lib\\site-packages\\nibabel\\arrayproxy.py:393\u001B[0m, in \u001B[0;36mArrayProxy._get_scaled\u001B[1;34m(self, dtype, slicer)\u001B[0m\n\u001B[0;32m    391\u001B[0m     scl_inter \u001B[39m=\u001B[39m scl_inter\u001B[39m.\u001B[39mastype(use_dtype)\n\u001B[0;32m    392\u001B[0m \u001B[39m# Read array and upcast as necessary for big slopes, intercepts\u001B[39;00m\n\u001B[1;32m--> 393\u001B[0m scaled \u001B[39m=\u001B[39m apply_read_scaling(\u001B[39mself\u001B[39;49m\u001B[39m.\u001B[39;49m_get_unscaled(slicer\u001B[39m=\u001B[39;49mslicer), scl_slope, scl_inter)\n\u001B[0;32m    394\u001B[0m \u001B[39mif\u001B[39;00m dtype \u001B[39mis\u001B[39;00m \u001B[39mnot\u001B[39;00m \u001B[39mNone\u001B[39;00m:\n\u001B[0;32m    395\u001B[0m     scaled \u001B[39m=\u001B[39m scaled\u001B[39m.\u001B[39mastype(np\u001B[39m.\u001B[39mpromote_types(scaled\u001B[39m.\u001B[39mdtype, dtype), copy\u001B[39m=\u001B[39m\u001B[39mFalse\u001B[39;00m)\n",
      "File \u001B[1;32me:\\anaconda\\Anaconda\\envs\\pytorch\\lib\\site-packages\\nibabel\\arrayproxy.py:363\u001B[0m, in \u001B[0;36mArrayProxy._get_unscaled\u001B[1;34m(self, slicer)\u001B[0m\n\u001B[0;32m    359\u001B[0m \u001B[39mif\u001B[39;00m canonical_slicers(slicer, \u001B[39mself\u001B[39m\u001B[39m.\u001B[39m_shape, \u001B[39mFalse\u001B[39;00m) \u001B[39m==\u001B[39m canonical_slicers(\n\u001B[0;32m    360\u001B[0m     (), \u001B[39mself\u001B[39m\u001B[39m.\u001B[39m_shape, \u001B[39mFalse\u001B[39;00m\n\u001B[0;32m    361\u001B[0m ):\n\u001B[0;32m    362\u001B[0m     \u001B[39mwith\u001B[39;00m \u001B[39mself\u001B[39m\u001B[39m.\u001B[39m_get_fileobj() \u001B[39mas\u001B[39;00m fileobj, \u001B[39mself\u001B[39m\u001B[39m.\u001B[39m_lock:\n\u001B[1;32m--> 363\u001B[0m         \u001B[39mreturn\u001B[39;00m array_from_file(\n\u001B[0;32m    364\u001B[0m             \u001B[39mself\u001B[39;49m\u001B[39m.\u001B[39;49m_shape,\n\u001B[0;32m    365\u001B[0m             \u001B[39mself\u001B[39;49m\u001B[39m.\u001B[39;49m_dtype,\n\u001B[0;32m    366\u001B[0m             fileobj,\n\u001B[0;32m    367\u001B[0m             offset\u001B[39m=\u001B[39;49m\u001B[39mself\u001B[39;49m\u001B[39m.\u001B[39;49m_offset,\n\u001B[0;32m    368\u001B[0m             order\u001B[39m=\u001B[39;49m\u001B[39mself\u001B[39;49m\u001B[39m.\u001B[39;49morder,\n\u001B[0;32m    369\u001B[0m             mmap\u001B[39m=\u001B[39;49m\u001B[39mself\u001B[39;49m\u001B[39m.\u001B[39;49m_mmap,\n\u001B[0;32m    370\u001B[0m         )\n\u001B[0;32m    371\u001B[0m \u001B[39mwith\u001B[39;00m \u001B[39mself\u001B[39m\u001B[39m.\u001B[39m_get_fileobj() \u001B[39mas\u001B[39;00m fileobj:\n\u001B[0;32m    372\u001B[0m     \u001B[39mreturn\u001B[39;00m fileslice(\n\u001B[0;32m    373\u001B[0m         fileobj,\n\u001B[0;32m    374\u001B[0m         slicer,\n\u001B[1;32m   (...)\u001B[0m\n\u001B[0;32m    379\u001B[0m         lock\u001B[39m=\u001B[39m\u001B[39mself\u001B[39m\u001B[39m.\u001B[39m_lock,\n\u001B[0;32m    380\u001B[0m     )\n",
      "File \u001B[1;32me:\\anaconda\\Anaconda\\envs\\pytorch\\lib\\site-packages\\nibabel\\volumeutils.py:453\u001B[0m, in \u001B[0;36marray_from_file\u001B[1;34m(shape, in_dtype, infile, offset, order, mmap)\u001B[0m\n\u001B[0;32m    451\u001B[0m infile\u001B[39m.\u001B[39mseek(offset)\n\u001B[0;32m    452\u001B[0m \u001B[39mif\u001B[39;00m \u001B[39mhasattr\u001B[39m(infile, \u001B[39m'\u001B[39m\u001B[39mreadinto\u001B[39m\u001B[39m'\u001B[39m):\n\u001B[1;32m--> 453\u001B[0m     data_bytes \u001B[39m=\u001B[39m \u001B[39mbytearray\u001B[39;49m(n_bytes)\n\u001B[0;32m    454\u001B[0m     n_read \u001B[39m=\u001B[39m infile\u001B[39m.\u001B[39mreadinto(data_bytes)\n\u001B[0;32m    455\u001B[0m     needs_copy \u001B[39m=\u001B[39m \u001B[39mFalse\u001B[39;00m\n",
      "\u001B[1;31mMemoryError\u001B[0m: "
     ]
    }
   ],
   "source": [
    "path = \"F:\\kits19-master\\kits19-master\\data\\case_00000\\segmentation.nii.gz\"\n",
    "image = nib.load(path)\n",
    "image = image.get_fdata()\n",
    "print(image.shape)\n",
    "plt.imshow(image[300,:,:],cmap='gray')\n",
    "plt.show()"
   ]
  },
  {
   "cell_type": "code",
   "execution_count": 97,
   "metadata": {},
   "outputs": [
    {
     "ename": "TypeError",
     "evalue": "Cannot slice image objects; consider using `img.slicer[slice]` to generate a sliced image (see documentation for caveats) or slicing image array data with `img.dataobj[slice]` or `img.get_fdata()[slice]`",
     "output_type": "error",
     "traceback": [
      "\u001B[1;31m---------------------------------------------------------------------------\u001B[0m",
      "\u001B[1;31mTypeError\u001B[0m                                 Traceback (most recent call last)",
      "\u001B[1;32mf:\\kits19-master\\kits19-master\\CTHU_normalize.ipynb Cell 4\u001B[0m in \u001B[0;36m<cell line: 3>\u001B[1;34m()\u001B[0m\n\u001B[0;32m      <a href='vscode-notebook-cell:/f%3A/kits19-master/kits19-master/CTHU_normalize.ipynb#W2sZmlsZQ%3D%3D?line=0'>1</a>\u001B[0m \u001B[39m# for i in range(611):\u001B[39;00m\n\u001B[0;32m      <a href='vscode-notebook-cell:/f%3A/kits19-master/kits19-master/CTHU_normalize.ipynb#W2sZmlsZQ%3D%3D?line=1'>2</a>\u001B[0m \u001B[39m#     print(image[i,:,:].shape,image[i,:,:].max(),image[i,:,:].min())\u001B[39;00m\n\u001B[1;32m----> <a href='vscode-notebook-cell:/f%3A/kits19-master/kits19-master/CTHU_normalize.ipynb#W2sZmlsZQ%3D%3D?line=2'>3</a>\u001B[0m image[\u001B[39m300\u001B[39;49m,:,:][\u001B[39m320\u001B[39m]\n",
      "File \u001B[1;32me:\\anaconda\\Anaconda\\envs\\pytorch\\lib\\site-packages\\nibabel\\spatialimages.py:564\u001B[0m, in \u001B[0;36mSpatialImage.__getitem__\u001B[1;34m(self, idx)\u001B[0m\n\u001B[0;32m    558\u001B[0m \u001B[39mdef\u001B[39;00m \u001B[39m__getitem__\u001B[39m(\u001B[39mself\u001B[39m, idx):\n\u001B[0;32m    559\u001B[0m     \u001B[39m\"\"\"No slicing or dictionary interface for images\u001B[39;00m\n\u001B[0;32m    560\u001B[0m \n\u001B[0;32m    561\u001B[0m \u001B[39m    Use the slicer attribute to perform cropping and subsampling at your\u001B[39;00m\n\u001B[0;32m    562\u001B[0m \u001B[39m    own risk.\u001B[39;00m\n\u001B[0;32m    563\u001B[0m \u001B[39m    \"\"\"\u001B[39;00m\n\u001B[1;32m--> 564\u001B[0m     \u001B[39mraise\u001B[39;00m \u001B[39mTypeError\u001B[39;00m(\n\u001B[0;32m    565\u001B[0m         \u001B[39m'\u001B[39m\u001B[39mCannot slice image objects; consider using `img.slicer[slice]` \u001B[39m\u001B[39m'\u001B[39m\n\u001B[0;32m    566\u001B[0m         \u001B[39m'\u001B[39m\u001B[39mto generate a sliced image (see documentation for caveats) or \u001B[39m\u001B[39m'\u001B[39m\n\u001B[0;32m    567\u001B[0m         \u001B[39m'\u001B[39m\u001B[39mslicing image array data with `img.dataobj[slice]` or \u001B[39m\u001B[39m'\u001B[39m\n\u001B[0;32m    568\u001B[0m         \u001B[39m'\u001B[39m\u001B[39m`img.get_fdata()[slice]`\u001B[39m\u001B[39m'\u001B[39m\n\u001B[0;32m    569\u001B[0m     )\n",
      "\u001B[1;31mTypeError\u001B[0m: Cannot slice image objects; consider using `img.slicer[slice]` to generate a sliced image (see documentation for caveats) or slicing image array data with `img.dataobj[slice]` or `img.get_fdata()[slice]`"
     ]
    }
   ],
   "source": [
    "# for i in range(611):\n",
    "#     print(image[i,:,:].shape,image[i,:,:].max(),image[i,:,:].min())\n",
    "image[300,:,:][320]  # 0-->背景 1 -->肾脏  2-->肿瘤"
   ]
  },
  {
   "cell_type": "code",
   "execution_count": null,
   "metadata": {},
   "outputs": [],
   "source": [
    "def normalize(volume):\n",
    "    \"\"\"Normalize the volume\"\"\"\n",
    "    min = -1024.0\n",
    "    max = 1413.0 \n",
    "    volume[volume < min] = min\n",
    "    volume[volume > max] = max\n",
    "    volume = (volume - min) / (max - min)\n",
    "    volume = volume.astype(\"float32\")\n",
    "    return volume\n"
   ]
  },
  {
   "cell_type": "code",
   "execution_count": null,
   "metadata": {},
   "outputs": [
    {
     "name": "stdout",
     "output_type": "stream",
     "text": [
      "2.0 0.0\n"
     ]
    }
   ],
   "source": [
    "print(image.max(),image.min())"
   ]
  },
  {
   "cell_type": "code",
   "execution_count": null,
   "metadata": {},
   "outputs": [
    {
     "ename": "MemoryError",
     "evalue": "Unable to allocate 1.19 GiB for an array with shape (611, 512, 512) and data type float64",
     "output_type": "error",
     "traceback": [
      "\u001B[1;31m---------------------------------------------------------------------------\u001B[0m",
      "\u001B[1;31mMemoryError\u001B[0m                               Traceback (most recent call last)",
      "\u001B[1;32mf:\\kits19-master\\kits19-master\\CTHU_normalize.ipynb Cell 7\u001B[0m in \u001B[0;36m<cell line: 2>\u001B[1;34m()\u001B[0m\n\u001B[0;32m      <a href='vscode-notebook-cell:/f%3A/kits19-master/kits19-master/CTHU_normalize.ipynb#W5sZmlsZQ%3D%3D?line=0'>1</a>\u001B[0m \u001B[39m# normalize到0-1\u001B[39;00m\n\u001B[1;32m----> <a href='vscode-notebook-cell:/f%3A/kits19-master/kits19-master/CTHU_normalize.ipynb#W5sZmlsZQ%3D%3D?line=1'>2</a>\u001B[0m \u001B[39mprint\u001B[39m(normalize(image[:,:,:])\u001B[39m.\u001B[39mmax()) \n\u001B[0;32m      <a href='vscode-notebook-cell:/f%3A/kits19-master/kits19-master/CTHU_normalize.ipynb#W5sZmlsZQ%3D%3D?line=2'>3</a>\u001B[0m \u001B[39mprint\u001B[39m(normalize(image[:,:,:])\u001B[39m.\u001B[39mmin())\n\u001B[0;32m      <a href='vscode-notebook-cell:/f%3A/kits19-master/kits19-master/CTHU_normalize.ipynb#W5sZmlsZQ%3D%3D?line=3'>4</a>\u001B[0m normalize(image[\u001B[39m100\u001B[39m,\u001B[39m200\u001B[39m,:])\n",
      "\u001B[1;32mf:\\kits19-master\\kits19-master\\CTHU_normalize.ipynb Cell 7\u001B[0m in \u001B[0;36mnormalize\u001B[1;34m(volume)\u001B[0m\n\u001B[0;32m      <a href='vscode-notebook-cell:/f%3A/kits19-master/kits19-master/CTHU_normalize.ipynb#W5sZmlsZQ%3D%3D?line=4'>5</a>\u001B[0m volume[volume \u001B[39m<\u001B[39m \u001B[39mmin\u001B[39m] \u001B[39m=\u001B[39m \u001B[39mmin\u001B[39m\n\u001B[0;32m      <a href='vscode-notebook-cell:/f%3A/kits19-master/kits19-master/CTHU_normalize.ipynb#W5sZmlsZQ%3D%3D?line=5'>6</a>\u001B[0m volume[volume \u001B[39m>\u001B[39m \u001B[39mmax\u001B[39m] \u001B[39m=\u001B[39m \u001B[39mmax\u001B[39m\n\u001B[1;32m----> <a href='vscode-notebook-cell:/f%3A/kits19-master/kits19-master/CTHU_normalize.ipynb#W5sZmlsZQ%3D%3D?line=6'>7</a>\u001B[0m volume \u001B[39m=\u001B[39m (volume \u001B[39m-\u001B[39;49m \u001B[39mmin\u001B[39;49m) \u001B[39m/\u001B[39m (\u001B[39mmax\u001B[39m \u001B[39m-\u001B[39m \u001B[39mmin\u001B[39m)\n\u001B[0;32m      <a href='vscode-notebook-cell:/f%3A/kits19-master/kits19-master/CTHU_normalize.ipynb#W5sZmlsZQ%3D%3D?line=7'>8</a>\u001B[0m volume \u001B[39m=\u001B[39m volume\u001B[39m.\u001B[39mastype(\u001B[39m\"\u001B[39m\u001B[39mfloat32\u001B[39m\u001B[39m\"\u001B[39m)\n\u001B[0;32m      <a href='vscode-notebook-cell:/f%3A/kits19-master/kits19-master/CTHU_normalize.ipynb#W5sZmlsZQ%3D%3D?line=8'>9</a>\u001B[0m \u001B[39mreturn\u001B[39;00m volume\n",
      "\u001B[1;31mMemoryError\u001B[0m: Unable to allocate 1.19 GiB for an array with shape (611, 512, 512) and data type float64"
     ]
    }
   ],
   "source": [
    "# # normalize到0-1\n",
    "# print(normalize(image[:,:,:]).max()) \n",
    "# print(normalize(image[:,:,:]).min())\n",
    "# # normalize(image[100,200,:])\n",
    "\n"
   ]
  },
  {
   "cell_type": "code",
   "execution_count": null,
   "metadata": {},
   "outputs": [
    {
     "data": {
      "text/plain": [
       "(1.0, 0.0)"
      ]
     },
     "execution_count": 58,
     "metadata": {},
     "output_type": "execute_result"
    }
   ],
   "source": [
    "image[200,:,:].max(),image[200,:,:].min()"
   ]
  },
  {
   "cell_type": "code",
   "execution_count": null,
   "metadata": {},
   "outputs": [],
   "source": []
  }
 ],
 "metadata": {
  "kernelspec": {
   "display_name": "python3.8",
   "language": "python",
   "name": "python3"
  },
  "language_info": {
   "codemirror_mode": {
    "name": "ipython",
    "version": 3
   },
   "file_extension": ".py",
   "mimetype": "text/x-python",
   "name": "python",
   "nbconvert_exporter": "python",
   "pygments_lexer": "ipython3",
   "version": "3.8.13"
  },
  "orig_nbformat": 4
 },
 "nbformat": 4,
 "nbformat_minor": 2
}